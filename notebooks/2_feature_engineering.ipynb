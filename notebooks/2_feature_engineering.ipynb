{
 "cells": [
  {
   "cell_type": "markdown",
   "id": "2775171b",
   "metadata": {},
   "source": [
    "# Feature Engineering Notebook"
   ]
  },
  {
   "cell_type": "code",
   "execution_count": 1,
   "id": "570c725d",
   "metadata": {},
   "outputs": [],
   "source": [
    "import pandas as pd"
   ]
  },
  {
   "cell_type": "code",
   "execution_count": 2,
   "id": "9602697f",
   "metadata": {},
   "outputs": [],
   "source": [
    "from sklearn.preprocessing import MinMaxScaler"
   ]
  },
  {
   "cell_type": "code",
   "execution_count": 3,
   "id": "78a31414",
   "metadata": {},
   "outputs": [],
   "source": [
    "df = pd.read_csv('../data/traffic_cleaned.csv')"
   ]
  },
  {
   "cell_type": "code",
   "execution_count": 4,
   "id": "8ac011f5",
   "metadata": {},
   "outputs": [],
   "source": [
    "features = ['Vehicle_Count', 'Traffic_Speed_kmh', 'Road_Occupancy_%']"
   ]
  },
  {
   "cell_type": "code",
   "execution_count": 6,
   "id": "7d84e468",
   "metadata": {},
   "outputs": [],
   "source": [
    "target = 'Traffic_Speed_kmh'"
   ]
  },
  {
   "cell_type": "code",
   "execution_count": 7,
   "id": "060c011f",
   "metadata": {},
   "outputs": [],
   "source": [
    "scaler_X = MinMaxScaler()"
   ]
  },
  {
   "cell_type": "code",
   "execution_count": 8,
   "id": "205417db",
   "metadata": {},
   "outputs": [],
   "source": [
    "scaler_y = MinMaxScaler()"
   ]
  },
  {
   "cell_type": "code",
   "execution_count": 9,
   "id": "afdef39d",
   "metadata": {},
   "outputs": [],
   "source": [
    "scaled_X = scaler_X.fit_transform(df[features])"
   ]
  },
  {
   "cell_type": "code",
   "execution_count": 10,
   "id": "3773841a",
   "metadata": {},
   "outputs": [],
   "source": [
    "scaled_y = scaler_y.fit_transform(df[[target]])"
   ]
  },
  {
   "cell_type": "code",
   "execution_count": 11,
   "id": "96a0cac8",
   "metadata": {},
   "outputs": [],
   "source": [
    "import pickle"
   ]
  },
  {
   "cell_type": "code",
   "execution_count": 12,
   "id": "b5966944",
   "metadata": {},
   "outputs": [],
   "source": [
    "pickle.dump(scaler_X, open('../models/traffic_lstm_scaler_X.pkl', 'wb'))"
   ]
  },
  {
   "cell_type": "code",
   "execution_count": 13,
   "id": "a2de38ff",
   "metadata": {},
   "outputs": [],
   "source": [
    "pickle.dump(scaler_y, open('../models/traffic_lstm_scaler_y.pkl', 'wb'))"
   ]
  },
  {
   "cell_type": "code",
   "execution_count": 14,
   "id": "47aac392",
   "metadata": {},
   "outputs": [
    {
     "data": {
      "text/plain": [
       "array([[0.67474048, 0.59858371, 0.80724477],\n",
       "       [0.66435986, 0.23176518, 0.39807086],\n",
       "       [0.83737024, 0.55853111, 0.80857468],\n",
       "       [0.09342561, 0.00970397, 0.30769076],\n",
       "       [0.18685121, 0.75132236, 0.13676725]])"
      ]
     },
     "execution_count": 14,
     "metadata": {},
     "output_type": "execute_result"
    }
   ],
   "source": [
    "scaled_X[:5]"
   ]
  }
 ],
 "metadata": {
  "kernelspec": {
   "display_name": "venv",
   "language": "python",
   "name": "python3"
  },
  "language_info": {
   "codemirror_mode": {
    "name": "ipython",
    "version": 3
   },
   "file_extension": ".py",
   "mimetype": "text/x-python",
   "name": "python",
   "nbconvert_exporter": "python",
   "pygments_lexer": "ipython3",
   "version": "3.11.3"
  }
 },
 "nbformat": 4,
 "nbformat_minor": 5
}
