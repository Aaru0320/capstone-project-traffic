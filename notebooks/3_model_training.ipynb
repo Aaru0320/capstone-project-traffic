{
 "cells": [
  {
   "cell_type": "markdown",
   "id": "a30a623b",
   "metadata": {},
   "source": [
    "# Model Training Notebook"
   ]
  },
  {
   "cell_type": "code",
   "execution_count": 6,
   "id": "5a89a646",
   "metadata": {},
   "outputs": [],
   "source": [
    "import sys\n",
    "import os\n",
    "import pandas as pd\n",
    "import numpy as np\n",
    "import pickle\n",
    "from tensorflow.keras.models import Sequential\n",
    "from tensorflow.keras.layers import LSTM, Dense\n",
    "from tensorflow.keras.losses import MeanSquaredError\n",
    "\n",
    "# Add the path to the src directory (adjust this if your structure is different)\n",
    "sys.path.append(os.path.abspath(\"..\"))\n",
    "\n",
    "# Now import your function correctly\n",
    "from src.create_sequences import create_sequences\n"
   ]
  },
  {
   "cell_type": "code",
   "execution_count": 7,
   "id": "661e3b71",
   "metadata": {},
   "outputs": [],
   "source": [
    "df = pd.read_csv('../data/traffic_cleaned.csv')\n",
    "features = ['Vehicle_Count', 'Traffic_Speed_kmh', 'Road_Occupancy_%']"
   ]
  },
  {
   "cell_type": "code",
   "execution_count": 8,
   "id": "d25249ef",
   "metadata": {},
   "outputs": [],
   "source": [
    "scaler_X = pickle.load(open('../models/traffic_lstm_scaler_X.pkl', 'rb'))\n",
    "scaler_y = pickle.load(open('../models/traffic_lstm_scaler_y.pkl', 'rb'))"
   ]
  },
  {
   "cell_type": "code",
   "execution_count": 9,
   "id": "a9153c7b",
   "metadata": {},
   "outputs": [],
   "source": [
    "scaled_X = scaler_X.transform(df[features])\n",
    "seq_length = 10"
   ]
  },
  {
   "cell_type": "code",
   "execution_count": 10,
   "id": "faa50137",
   "metadata": {},
   "outputs": [],
   "source": [
    "X, y = create_sequences(scaled_X, seq_length)\n",
    "y = y[:, 1] "
   ]
  },
  {
   "cell_type": "code",
   "execution_count": 11,
   "id": "69f91560",
   "metadata": {},
   "outputs": [
    {
     "name": "stderr",
     "output_type": "stream",
     "text": [
      "/Users/aaridhi0301/Downloads/smart_traffic_forecasting_with_notebooks/venv/lib/python3.11/site-packages/keras/src/layers/rnn/rnn.py:200: UserWarning: Do not pass an `input_shape`/`input_dim` argument to a layer. When using Sequential models, prefer using an `Input(shape)` object as the first layer in the model instead.\n",
      "  super().__init__(**kwargs)\n"
     ]
    }
   ],
   "source": [
    "model = Sequential([\n",
    "    LSTM(64, input_shape=(X.shape[1], X.shape[2])),\n",
    "    Dense(1)\n",
    "])"
   ]
  },
  {
   "cell_type": "code",
   "execution_count": 12,
   "id": "42b83d5c",
   "metadata": {},
   "outputs": [],
   "source": [
    "model.compile(optimizer='adam', loss=MeanSquaredError())\n"
   ]
  },
  {
   "cell_type": "code",
   "execution_count": 13,
   "id": "b2b477fa",
   "metadata": {},
   "outputs": [
    {
     "name": "stdout",
     "output_type": "stream",
     "text": [
      "Epoch 1/10\n",
      "\u001b[1m156/156\u001b[0m \u001b[32m━━━━━━━━━━━━━━━━━━━━\u001b[0m\u001b[37m\u001b[0m \u001b[1m1s\u001b[0m 2ms/step - loss: 0.1022\n",
      "Epoch 2/10\n",
      "\u001b[1m156/156\u001b[0m \u001b[32m━━━━━━━━━━━━━━━━━━━━\u001b[0m\u001b[37m\u001b[0m \u001b[1m0s\u001b[0m 2ms/step - loss: 0.0860\n",
      "Epoch 3/10\n",
      "\u001b[1m156/156\u001b[0m \u001b[32m━━━━━━━━━━━━━━━━━━━━\u001b[0m\u001b[37m\u001b[0m \u001b[1m0s\u001b[0m 2ms/step - loss: 0.0843\n",
      "Epoch 4/10\n",
      "\u001b[1m156/156\u001b[0m \u001b[32m━━━━━━━━━━━━━━━━━━━━\u001b[0m\u001b[37m\u001b[0m \u001b[1m0s\u001b[0m 2ms/step - loss: 0.0840\n",
      "Epoch 5/10\n",
      "\u001b[1m156/156\u001b[0m \u001b[32m━━━━━━━━━━━━━━━━━━━━\u001b[0m\u001b[37m\u001b[0m \u001b[1m0s\u001b[0m 2ms/step - loss: 0.0847\n",
      "Epoch 6/10\n",
      "\u001b[1m156/156\u001b[0m \u001b[32m━━━━━━━━━━━━━━━━━━━━\u001b[0m\u001b[37m\u001b[0m \u001b[1m0s\u001b[0m 2ms/step - loss: 0.0840\n",
      "Epoch 7/10\n",
      "\u001b[1m156/156\u001b[0m \u001b[32m━━━━━━━━━━━━━━━━━━━━\u001b[0m\u001b[37m\u001b[0m \u001b[1m0s\u001b[0m 2ms/step - loss: 0.0835\n",
      "Epoch 8/10\n",
      "\u001b[1m156/156\u001b[0m \u001b[32m━━━━━━━━━━━━━━━━━━━━\u001b[0m\u001b[37m\u001b[0m \u001b[1m0s\u001b[0m 2ms/step - loss: 0.0835\n",
      "Epoch 9/10\n",
      "\u001b[1m156/156\u001b[0m \u001b[32m━━━━━━━━━━━━━━━━━━━━\u001b[0m\u001b[37m\u001b[0m \u001b[1m0s\u001b[0m 2ms/step - loss: 0.0858\n",
      "Epoch 10/10\n",
      "\u001b[1m156/156\u001b[0m \u001b[32m━━━━━━━━━━━━━━━━━━━━\u001b[0m\u001b[37m\u001b[0m \u001b[1m0s\u001b[0m 2ms/step - loss: 0.0831\n"
     ]
    },
    {
     "data": {
      "text/plain": [
       "<keras.src.callbacks.history.History at 0x1789c47d0>"
      ]
     },
     "execution_count": 13,
     "metadata": {},
     "output_type": "execute_result"
    }
   ],
   "source": [
    "model.fit(X, y, epochs=10, batch_size=32)\n"
   ]
  },
  {
   "cell_type": "code",
   "execution_count": 14,
   "id": "83c8ab1f",
   "metadata": {},
   "outputs": [
    {
     "name": "stderr",
     "output_type": "stream",
     "text": [
      "WARNING:absl:You are saving your model as an HDF5 file via `model.save()` or `keras.saving.save_model(model)`. This file format is considered legacy. We recommend using instead the native Keras format, e.g. `model.save('my_model.keras')` or `keras.saving.save_model(model, 'my_model.keras')`. \n"
     ]
    }
   ],
   "source": [
    "model.save('../models/traffic_lstm_model.h5')"
   ]
  }
 ],
 "metadata": {
  "kernelspec": {
   "display_name": "venv",
   "language": "python",
   "name": "python3"
  },
  "language_info": {
   "codemirror_mode": {
    "name": "ipython",
    "version": 3
   },
   "file_extension": ".py",
   "mimetype": "text/x-python",
   "name": "python",
   "nbconvert_exporter": "python",
   "pygments_lexer": "ipython3",
   "version": "3.11.3"
  }
 },
 "nbformat": 4,
 "nbformat_minor": 5
}
